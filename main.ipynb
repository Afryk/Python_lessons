{
 "cells": [
  {
   "cell_type": "code",
   "execution_count": 31,
   "outputs": [
    {
     "name": "stdout",
     "output_type": "stream",
     "text": [
      "Mano draugo vardas yra jonas  jo amzius  30 False\n"
     ]
    },
    {
     "ename": "TypeError",
     "evalue": "'type' is an invalid keyword argument for print()",
     "output_type": "error",
     "traceback": [
      "\u001B[1;31m---------------------------------------------------------------------------\u001B[0m",
      "\u001B[1;31mTypeError\u001B[0m                                 Traceback (most recent call last)",
      "Cell \u001B[1;32mIn[31], line 7\u001B[0m\n\u001B[0;32m      4\u001B[0m jono_pinigu_krepselio_suma \u001B[38;5;241m=\u001B[39m \u001B[38;5;241m14\u001B[39m,\u001B[38;5;241m5\u001B[39m\n\u001B[0;32m      6\u001B[0m \u001B[38;5;28mprint\u001B[39m(\u001B[38;5;124m\"\u001B[39m\u001B[38;5;124mMano draugo vardas yra\u001B[39m\u001B[38;5;124m\"\u001B[39m, vardas , \u001B[38;5;124m\"\u001B[39m\u001B[38;5;124m jo amzius \u001B[39m\u001B[38;5;124m\"\u001B[39m, amzius, ar_juonas_moka_programuot )\n\u001B[1;32m----> 7\u001B[0m \u001B[38;5;28;43mprint\u001B[39;49m\u001B[43m(\u001B[49m\u001B[38;5;28;43mtype\u001B[39;49m\u001B[38;5;241;43m=\u001B[39;49m\u001B[43m(\u001B[49m\u001B[43mar_juonas_moka_programuot\u001B[49m\u001B[43m)\u001B[49m\u001B[43m)\u001B[49m\n",
      "\u001B[1;31mTypeError\u001B[0m: 'type' is an invalid keyword argument for print()"
     ]
    }
   ],
   "source": [
    "# vardas = \"jonas\"\n",
    "# amzius = 30\n",
    "# ar_juonas_moka_programuot = False \n",
    "# jono_pinigu_krepselio_suma = 14,5\n",
    "# \n",
    "# print(\"Mano draugo vardas yra\", vardas , \" jo amzius \", amzius, ar_juonas_moka_programuot )"
   ],
   "metadata": {
    "collapsed": false,
    "ExecuteTime": {
     "end_time": "2023-10-25T06:40:35.352974300Z",
     "start_time": "2023-10-25T06:40:35.334642600Z"
    }
   },
   "id": "be77142c9fb4e28a"
  },
  {
   "cell_type": "code",
   "execution_count": 49,
   "outputs": [
    {
     "name": "stdout",
     "output_type": "stream",
     "text": [
      "['obolis', 'arbuzas', 'bonanas', 'kriause']\n"
     ]
    }
   ],
   "source": [
    "# vaisiai = [\"obolis\", \"arbuzas\", \"bonanas\", \"kriause\"]\n",
    "# # ilgis = len(vaisiai)\n",
    "# # pridedane_vaisiu = vaisiai.append(vaisiai.append(\"Melionas\"))\n",
    "# # prideti_i_pradzia\n",
    "# vaisiai.insert(0,\"Melionas\")\n",
    "# indeksas = vaisiai.index(\"arbuzas\")\n",
    "# vaisiai.remove(\"bonanas\")\n",
    "# vaisiai.pop(2)\n",
    "# print(indeksas)\n",
    "# print(vaisiai)"
   ],
   "metadata": {
    "collapsed": false,
    "ExecuteTime": {
     "end_time": "2023-10-25T07:11:24.124594600Z",
     "start_time": "2023-10-25T07:11:24.118135500Z"
    }
   },
   "id": "c03ac552ccb240a"
  },
  {
   "cell_type": "code",
   "execution_count": 54,
   "outputs": [
    {
     "name": "stdout",
     "output_type": "stream",
     "text": [
      "{'vardas': 'Jonas', 'amzius': 30}\n"
     ]
    }
   ],
   "source": [
    "# # dictionary - structure = my_direct = {key1:value1, key2:value2}\n",
    "# zodynas = {\n",
    "#     \"vardas\": \"Jonas\",\n",
    "#     \"amzius\":30,\n",
    "#     \"miestas\": \"Vilnius\"\n",
    "# }\n",
    "# # zodynas[\"ar studentas\"] = True #pridiet true reiksme\n",
    "# del zodynas[\"miestas\"] #yraso salinimas\n",
    "# print(zodynas)"
   ],
   "metadata": {
    "collapsed": false,
    "ExecuteTime": {
     "end_time": "2023-10-25T07:24:41.496080700Z",
     "start_time": "2023-10-25T07:24:41.479778Z"
    }
   },
   "id": "259faf19184974f7"
  },
  {
   "cell_type": "code",
   "execution_count": 67,
   "outputs": [
    {
     "name": "stdout",
     "output_type": "stream",
     "text": [
      "[{'Vardas': 'Jonas', 'Amzius': 32, 'Miestas': 'Kaunas', 'Profesija': 'Inzinirius'}, {'Vardas': 'Ona', 'Amzius': 25, 'Miestas': 'Klaipeda', 'Profesija': 'Gyditojas'}, {'Vardas': 'Antanas', 'Amzius': 46, 'Miestas': 'Vilnius', 'Profesija': 'Mokytojas'}, {'Vardas': 'Valius', 'Amzius': 18, 'Miestas': 'Vilnius', 'Profesija': 'Mechanikas'}]\n"
     ]
    }
   ],
   "source": [
    "#sukurti diksioneri\n",
    "# studentai = [\n",
    "#    {    \"Vardas\": \"Jonas\",\n",
    "#         \"Amzius\": 32,\n",
    "#         \"Miestas\": \"Kaunas\",\n",
    "#         \"Profesija\": \"Inzinirius\"\n",
    "#     },\n",
    "#     {    \"Vardas\": \"Ona\",\n",
    "#          \"Amzius\": 25, \n",
    "#          \"Miestas\": \"Klaipeda\",\n",
    "#          \"Profesija\": \"Gyditojas\"\n",
    "#     },\n",
    "#     {    \"Vardas\": \"Antanas\",\n",
    "#          \"Amzius\": 46,\n",
    "#          \"Miestas\": \"Vilnius\",\n",
    "#          \"Profesija\": \"Mokytojas\"\n",
    "#     }\n",
    "# ]\n",
    "# #dadet studenta\n",
    "# naujas_studentas = {       \"Vardas\": \"Valius\",\n",
    "#         \"Amzius\": 18,\n",
    "#         \"Miestas\": \"Vilnius\",\n",
    "#         \"Profesija\": \"Mechanikas\"\n",
    "#     }\n",
    "# studentai.append(naujas_studentas)\n",
    "# studentai pilnai ar tik jonas \n",
    "# print(studentai)"
   ],
   "metadata": {
    "collapsed": false,
    "ExecuteTime": {
     "end_time": "2023-10-25T07:46:01.316200400Z",
     "start_time": "2023-10-25T07:46:01.303388200Z"
    }
   },
   "id": "f12fb7694a815adc"
  },
  {
   "cell_type": "code",
   "execution_count": 72,
   "outputs": [
    {
     "name": "stdout",
     "output_type": "stream",
     "text": [
      "Asmuo yra pilnametis\n"
     ]
    }
   ],
   "source": [
    "# #if salyga :jusu veiksmai\n",
    "# amzius = 20\n",
    "# if amzius>= 18:\n",
    "#     print(\"Asmuo yra pilnametis\")\n",
    "# # elif- jei norim pridet dar salygu\n",
    "# elif amzius> 13:\n",
    "#     print(\"Asmuo yra paauglis\")\n",
    "# # else- jei norim pridet kita(antra) reiksme\n",
    "# else:\n",
    "#     print(\"Asmuo yra vaikas\")"
   ],
   "metadata": {
    "collapsed": false,
    "ExecuteTime": {
     "end_time": "2023-10-25T07:57:01.844778200Z",
     "start_time": "2023-10-25T07:57:01.832392900Z"
    }
   },
   "id": "66727e8524008cdc"
  },
  {
   "cell_type": "code",
   "execution_count": 75,
   "outputs": [
    {
     "name": "stdout",
     "output_type": "stream",
     "text": [
      "Vaisius kvis nerasta taciau yra elementu\n"
     ]
    }
   ],
   "source": [
    "# #su daiktais\n",
    "# vaisiai = [\"bananas\"]\n",
    "# # if not - gausime true ir isipildis\n",
    "# if not vaisiai: \n",
    "#     print(\"Vaisius sarasas tuscias\"),\n",
    "# elif \"kivis\" in vaisiai:\n",
    "#     print(\"Vaisius kivis\")\n",
    "# else:\n",
    "#     print(\"Vaisius kvis nerasta taciau yra elementu\")"
   ],
   "metadata": {
    "collapsed": false,
    "ExecuteTime": {
     "end_time": "2023-10-25T08:18:27.564310600Z",
     "start_time": "2023-10-25T08:18:27.557341100Z"
    }
   },
   "id": "d1802f388a8ea6a2"
  },
  {
   "cell_type": "code",
   "execution_count": 78,
   "outputs": [
    {
     "name": "stdout",
     "output_type": "stream",
     "text": [
      "Gali balcuoti\n"
     ]
    }
   ],
   "source": [
    "# age = 22\n",
    "# has_id = True\n",
    "# \n",
    "# if age >= 18:\n",
    "#     if has_id:\n",
    "#         print(\"Gali balcuoti\"),\n",
    "#     else:\n",
    "#         print(\"Jums reikia asmens tapatibes korteles\"),\n",
    "# else:\n",
    "#     print(\"Jums dar negalima balsuot\")"
   ],
   "metadata": {
    "collapsed": false,
    "ExecuteTime": {
     "end_time": "2023-10-25T08:24:15.601957400Z",
     "start_time": "2023-10-25T08:24:15.590060Z"
    }
   },
   "id": "a9f793841e6d60ff"
  },
  {
   "cell_type": "code",
   "execution_count": 84,
   "outputs": [
    {
     "name": "stdout",
     "output_type": "stream",
     "text": [
      "Parduotuveje yra Vistiena\n"
     ]
    }
   ],
   "source": [
    "# prekiu_kategorijos = [\"Vaisiai\", \"Miesa\", \"Darzoves\"]\n",
    "# # f raide yra formotavimas\n",
    "# # print(f' mano parduotuves prekiu kotegorija {prekiu_tipai}')\n",
    "# prekes = {\n",
    "#     'Vaisia': ['Oboliai', 'Bananas'],\n",
    "#     'Miesa': ['Kiaulena', 'Vistiena'],\n",
    "#     'Darzoves': ['Bulves', 'Pomidorai']\n",
    "# }\n",
    "# # norime susirasti prekes kotegorija 'Mesa' ir prekes 'Vistiena'\n",
    "# norima_kategorija = 'Miesa'\n",
    "# norima_preke = 'Vistiena'\n",
    "# \n",
    "# if norima_kategorija in prekiu_kategorijos:\n",
    "#     if norima_preke in prekes[norima_kategorija]:\n",
    "#         print(f\"Parduotuveje yra {norima_preke}\")\n",
    "#     else:\n",
    "#         print(f\"Parduotuveje nera {norima_preke}\")\n",
    "# else:\n",
    "#     print(f\"Parduotuveje nera prekes kategorijos: {norima_kategorija}\")"
   ],
   "metadata": {
    "collapsed": false,
    "ExecuteTime": {
     "end_time": "2023-10-25T08:40:52.116877800Z",
     "start_time": "2023-10-25T08:40:52.105500400Z"
    }
   },
   "id": "9e73fc7075fa7981"
  },
  {
   "cell_type": "code",
   "execution_count": 117,
   "outputs": [
    {
     "name": "stdout",
     "output_type": "stream",
     "text": [
      "<class 'list'>\n",
      "sis zmogus Brigita yra vaikas\n"
     ]
    }
   ],
   "source": [
    "#1 dalis. Sukurkite sąrašą su žmonių vardais ir amžiumi:\n",
    "#2 dalis. Jūsų užduotis - parašyti kodą, kuris išvestų kiekvieno žmogaus vardą su amžiumi: \"nepilnametis\", \"suaugęs\" arba \"vaikas\" (jei amžius yra 18).\n",
    "# zmones = [\n",
    "#     {\n",
    "#     'Vardas': 'Sauliu',\n",
    "#     'amzius': 20\n",
    "#     },\n",
    "#     {\n",
    "#         'Vardas': 'Brigita',\n",
    "#         'amzius': 16\n",
    "#     },\n",
    "#     {\n",
    "#         'Vardas': 'Arnas',\n",
    "#         'amzius': 10\n",
    "#     }\n",
    "# # ]\n",
    "# print(type(zmones))\n",
    "# zmogus=zmones[1]\n",
    "# if zmogus[\"amzius\"] > 18:\n",
    "#     print(f'sis zmogus {zmogus[\"Vardas\"]} yra pilnametis')\n",
    "# if zmogus[\"amzius\"] == 18:\n",
    "#     print(f'sis zmogus {zmogus[\"Vardas\"]} yra paauglis')\n",
    "# if zmogus[\"amzius\"] < 18:\n",
    "#     print(f'sis zmogus {zmogus[\"Vardas\"]} yra vaikas')\n",
    "# # else:\n",
    "# #     print(f' sis zmogus {zmogus[\"Vardas\"]} yra paauglis')\n",
    "\n",
    "\n"
   ],
   "metadata": {
    "collapsed": false,
    "ExecuteTime": {
     "end_time": "2023-10-25T10:41:45.977735400Z",
     "start_time": "2023-10-25T10:41:45.961569400Z"
    }
   },
   "id": "73e079d3265b7c63"
  },
  {
   "cell_type": "code",
   "execution_count": null,
   "outputs": [],
   "source": [
    "# 1 dalis: Sukurkite žodyną su darbuotojo informacija(Vardas, atlyginimas,pareigos);\n",
    "# 2.dalis: Pagal darbuotojo pareigas (jei jis yra \"inžinierius\"), padidinkite jo atlyginimą 10%. Jei jis nėra \"inžinierius\", palikite atlyginimą nepakeistą.\n",
    "\n",
    "# darbuotojas = {\n",
    "#     \"Vardas\": \"Tomas\",\n",
    "#     \"Atlyginimas\": 2200,\n",
    "#     \"Pareigos\": \"inzinerius\"\n",
    "}\n",
    "\n",
    "# print(tipe[darbuotojas])"
   ],
   "metadata": {
    "collapsed": false
   },
   "id": "222725f354664b51"
  }
 ],
 "metadata": {
  "kernelspec": {
   "display_name": "Python 3",
   "language": "python",
   "name": "python3"
  },
  "language_info": {
   "codemirror_mode": {
    "name": "ipython",
    "version": 2
   },
   "file_extension": ".py",
   "mimetype": "text/x-python",
   "name": "python",
   "nbconvert_exporter": "python",
   "pygments_lexer": "ipython2",
   "version": "2.7.6"
  }
 },
 "nbformat": 4,
 "nbformat_minor": 5
}
